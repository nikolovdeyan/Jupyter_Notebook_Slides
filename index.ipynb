{
 "cells": [
  {
   "cell_type": "markdown",
   "metadata": {
    "slideshow": {
     "slide_type": "slide"
    }
   },
   "source": [
    "# Slideshows with Jupyter Notebooks"
   ]
  },
  {
   "cell_type": "markdown",
   "metadata": {
    "slideshow": {
     "slide_type": "slide"
    }
   },
   "source": [
    "## Agenda:\n",
    "\n",
    "1. Slideshows Using Jupyter's `nbconvert`\n",
    "2. Live Slides With `RISE`\n",
    "3. Hosting Notebook Presentations on GitHub Pages"
   ]
  },
  {
   "cell_type": "markdown",
   "metadata": {
    "slideshow": {
     "slide_type": "slide"
    }
   },
   "source": [
    "## Slideshows Using Jupyter's `nbconvert`"
   ]
  },
  {
   "cell_type": "markdown",
   "metadata": {
    "slideshow": {
     "slide_type": "subslide"
    }
   },
   "source": [
    "### Jupyter's `nbconvert` Overview\n",
    "\n",
    "Jupyter Notebooks can optionally be converted to slideshow presentations. To do that a `Slide Type` must be selected for each cell that needs to be included in the presentation. Finally, the workbook needs to be converted to an html file using `nbconvert`. \n",
    "\n",
    "#### Turning on the slideshow tools\n",
    "-  Go to `View` and select `Cell Toolbar` > `Slideshow`. A dropdown control will appear on the right side of the notebook cells."
   ]
  },
  {
   "cell_type": "markdown",
   "metadata": {
    "slideshow": {
     "slide_type": "subslide"
    }
   },
   "source": [
    "### Jupyter Notebook's Built-In Slideshows Workflow\n",
    "\n",
    "#### Follow the steps:\n",
    "1. Assign slide types to the notebook's cells. \n",
    "2. Convert the notebook to a slideshow. Pass styling options.\n",
    "3. Present the slideshow (modifications will not be possible)."
   ]
  },
  {
   "cell_type": "markdown",
   "metadata": {
    "slideshow": {
     "slide_type": "subslide"
    }
   },
   "source": [
    "### Slide Types Overview\n",
    "Currently there are four types of slides:\n",
    "- **Slide**: Each cell is presented in a separate slide. Useful for sections or major points. Previous/next slides are accessed by navigating left/right.\n",
    "- **Subslide**: A continuation of the point of the previous slide. Additional slides accessed by navigating up/down.\n",
    "- **Fragment**: Presents multiple cells in a single slide one by one. Presented on the previous slide/subslide.\n",
    "- **Skip/Notes**: Not exported"
   ]
  },
  {
   "cell_type": "markdown",
   "metadata": {
    "slideshow": {
     "slide_type": "fragment"
    }
   },
   "source": [
    "#### That is a fragment! \n",
    "Make sure there is enough space for all of them."
   ]
  },
  {
   "cell_type": "markdown",
   "metadata": {
    "slideshow": {
     "slide_type": "subslide"
    }
   },
   "source": [
    "### Converting the notebook to a slideshow\n",
    "- Save and exit the notebook. Stop the Jupyter server.\n",
    "- Convert the notebook using the following command: `jupyter nbconvert notebook_name.ipynb --to slides --post serve`\n",
    "- The `--post serve` option will start an html server on localhost to use for the presentation.\n",
    "- A template command is given below:\n",
    "```\n",
    "jupyter nbconvert index.ipynb --to slides --post serve --SlidesExporter.reveal_theme='blood league' --SlidesExporter.reveal_scroll=True --SlidesExporter.reveal_transition='none' --SlidesExporter.reveal_url_prefix='reveal.js'\n",
    "```\n",
    "- All configuration options are provided [here](https://nbconvert.readthedocs.io/en/latest/config_options.html). \n"
   ]
  },
  {
   "cell_type": "markdown",
   "metadata": {
    "slideshow": {
     "slide_type": "subslide"
    }
   },
   "source": [
    "|               Parameter              |                                                               Description                                                              |\n",
    "|:------------------------------------:|:--------------------------------------------------------------------------------------------------------------------------------------:|\n",
    "| `SlidesExporter.font_awesome_url`    | URL to load font awesome from.                                                                                                         |\n",
    "| `SlidesExporter.jquery_url`          | Url to load jQuery from.                                                                                                               |\n",
    "| `SlidesExporter.require_js_url`      | Url to load require.js from.                                                                                                           |\n",
    "| `SlidesExporter.reveal_scroll`       | Set to `True` to enable scrolling within each slide.                                                                                   |\n",
    "| `SlidesExporter.reveal_theme`        | The name of the reveal.js theme to use. Use the following path to add/customize themes: `reveal_url_prefix/css/theme/`                 |\n",
    "| `SlidesExporter.reveal_transition` | The name of the reveal.js transition to use.                                                                                           |\n",
    "| `SlidesExporter.reveal_url_prefix`   | The URL prefix for reveal.js. Defaults to the reveal CDN, but doesn't have to. Should be a relative path to a local copy of reveal.js. |"
   ]
  },
  {
   "cell_type": "markdown",
   "metadata": {
    "slideshow": {
     "slide_type": "subslide"
    }
   },
   "source": [
    "#### Reveal.js Themes\n",
    "One of the following:\n",
    "  - `beige`\n",
    "  - `black` \n",
    "  - `blood league`\n",
    "  - `moon`\n",
    "  - `night`\n",
    "  - `serif`\n",
    "  - `sky`\n",
    "  - `solarized`\n",
    "  - `white`"
   ]
  },
  {
   "cell_type": "markdown",
   "metadata": {
    "slideshow": {
     "slide_type": "skip"
    }
   },
   "source": [
    " #### Reveal.js Transitions\n",
    "\n",
    " One of the following:\n",
    "- `none` \n",
    "- `fade` \n",
    "- `slide`\n",
    "- `convex`\n",
    "- `concave`\n",
    "- `zoom`"
   ]
  },
  {
   "cell_type": "markdown",
   "metadata": {
    "slideshow": {
     "slide_type": "subslide"
    }
   },
   "source": [
    "### Using the Presentation\n",
    "- Slides are traversed using left and right arrow.\n",
    "- Subslides are traversed using up and down arrow.\n",
    "- The escape key will zoom out to a view of all slides."
   ]
  },
  {
   "cell_type": "markdown",
   "metadata": {
    "slideshow": {
     "slide_type": "slide"
    }
   },
   "source": [
    "## Using RISE (Reveal.js Ipython Slideshow Extension)"
   ]
  },
  {
   "cell_type": "markdown",
   "metadata": {
    "slideshow": {
     "slide_type": "subslide"
    }
   },
   "source": [
    "### RISE Overview\n",
    "The RISE (Reveal.js Ipython Slideshow Extension) addon allows to make the slideshow live. It also works with Ipython Widgets."
   ]
  },
  {
   "cell_type": "markdown",
   "metadata": {
    "slideshow": {
     "slide_type": "subslide"
    }
   },
   "source": [
    "### Installing RISE\n",
    "- Use the `pip install RISE` command to install the Python module.\n",
    "- Use the `jupyter-nbextension install rise --py --sys-prefix` to install the jupyter notebook extension.\n",
    "- Use the `jupyter-nbextension enable rise --py --sys-prefix` to initialize RISE every time the notebook loads.\n",
    "- The **Enter/Exit RISE Slideshow** button should appear in the notebook menu.\n"
   ]
  },
  {
   "cell_type": "markdown",
   "metadata": {
    "slideshow": {
     "slide_type": "subslide"
    }
   },
   "source": [
    "### Using RISE\n",
    "`RISE` should have added a button to the Notebook. Click it to toggle the slideshow mode.\n",
    "\n",
    "### Customizing RISE\n",
    "- Use this link to customize `RISE`: https://rise.readthedocs.io/en/docs_hot_fixes/customize.html"
   ]
  },
  {
   "cell_type": "markdown",
   "metadata": {
    "slideshow": {
     "slide_type": "slide"
    }
   },
   "source": [
    "## Hosting Notebook Presentations on GitHub Pages"
   ]
  },
  {
   "cell_type": "markdown",
   "metadata": {
    "slideshow": {
     "slide_type": "subslide"
    }
   },
   "source": [
    "### Hosting  on GitHub Pages Overview\n",
    "\n",
    "\n",
    "#### Requirements to render a reveal.js slideshow from gh-pages:\n",
    "- The presentation's name should be `index.html` in order to render directly from the repo name.\n",
    "- `Reveal.js` should be added as a submodule to the repository or be available as a fork for the user publishing.\n",
    "- The notebook should be exported properly with the `--reveal-prefix` configuration parameter."
   ]
  },
  {
   "cell_type": "markdown",
   "metadata": {
    "slideshow": {
     "slide_type": "subslide"
    }
   },
   "source": [
    "### Steps to render a presentation on GitHub Pages\n",
    "\n",
    "1. Ensure that all needed cells in the Jupyter Notebook have been assigned a `Slide Type` property.\n",
    "2. Add `reveal.js` as a submodule to the repository where the presentation is located. Use the following command:\n",
    "```\n",
    "git submodule add https://github.com/hakimel/reveal.js.git reveal.js\n",
    "```\n",
    "3. Rename the notebook to `index.ipynb`. \n",
    "4. Stop the Jupyter Notebook server and convert the notebook with `nbconvert`. The basic command is as follows:\n",
    "```\n",
    "jupyter nbconvert --to slides index.jpynb --reveal-prefix=reveal.js\n",
    "```\n",
    "5. Rename the resulting `index.slides.html` file to `index.html`.\n",
    "6. Push the contents of the repo to GitHub.\n",
    "7. Enable the repository as GitHub Pages site: Go to the repo's Settings and look for GitHub Pages section. Change the Source setting to `master branch`. "
   ]
  },
  {
   "cell_type": "markdown",
   "metadata": {
    "slideshow": {
     "slide_type": "slide"
    }
   },
   "source": [
    "## Resources\n",
    "\n",
    "*The following resources were used to create this workbook:*\n",
    "\n",
    "- https://dzone.com/articles/creating-presentations-with-jupyter-notebook\n",
    "- http://blog.kdheepak.com/jupyter-notebook-revealjs-and-github-pages.html\n",
    "- https://www.blog.pythonlibrary.org/2018/09/25/creating-presentations-with-jupyter-notebook/\n",
    "- https://medium.com/learning-machine-learning/present-your-data-science-projects-with-jupyter-slides-75f20735eb0f"
   ]
  },
  {
   "cell_type": "code",
   "execution_count": null,
   "metadata": {},
   "outputs": [],
   "source": []
  }
 ],
 "metadata": {
  "celltoolbar": "Slideshow",
  "kernelspec": {
   "display_name": "Python 3",
   "language": "python",
   "name": "python3"
  },
  "language_info": {
   "codemirror_mode": {
    "name": "ipython",
    "version": 3
   },
   "file_extension": ".py",
   "mimetype": "text/x-python",
   "name": "python",
   "nbconvert_exporter": "python",
   "pygments_lexer": "ipython3",
   "version": "3.7.1"
  }
 },
 "nbformat": 4,
 "nbformat_minor": 2
}
