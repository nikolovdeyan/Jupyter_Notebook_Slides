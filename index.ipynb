{
 "cells": [
  {
   "cell_type": "markdown",
   "metadata": {
    "slideshow": {
     "slide_type": "slide"
    }
   },
   "source": [
    "# Slideshows with Jupyter Notebooks"
   ]
  },
  {
   "cell_type": "markdown",
   "metadata": {
    "slideshow": {
     "slide_type": "slide"
    }
   },
   "source": [
    "## Agenda:\n",
    "1. Using the Jupyter Notebook's Built-In Capabilities\n",
    "2. Using RISE\n",
    "3. Hosting Reveal.js Jupyter Notebook Presentations on GitHub Pages"
   ]
  },
  {
   "cell_type": "markdown",
   "metadata": {
    "slideshow": {
     "slide_type": "slide"
    }
   },
   "source": [
    "## Using the Jupyter Notebook's Built-In Capabilities"
   ]
  },
  {
   "cell_type": "markdown",
   "metadata": {
    "slideshow": {
     "slide_type": "subslide"
    }
   },
   "source": [
    "### Built-In Slide Capabilities Workflow\n",
    "#### Workflow overview\n",
    "1. Assign slide types to the notebook's cells. \n",
    "2. Convert the notebook to a slideshow. Pass styling options.\n",
    "3. Present the slideshow (modifications will not be possible).\n",
    "\n",
    "\n",
    "#### Turning on the slideshow tools\n",
    "-  Go to `View` and select `Cell Toolbar` > `Slideshow`. A dropdown control will appear on the right side of the notebook cells."
   ]
  },
  {
   "cell_type": "markdown",
   "metadata": {
    "slideshow": {
     "slide_type": "subslide"
    }
   },
   "source": [
    "### Slide Types Overview\n",
    "There are currently four types of slides:\n",
    "- **Slide**: Each cell is presented in a separate slide. Useful for sections or major points.\n",
    "- **Subslide**: A continuation of the point of the previous slide. Additional slides accessed by navigating up/down.\n",
    "- **Fragment**: Presents multiple cells in a single slide one by one. Presented on the previous slide/subslide.\n",
    "- **Skip/Notes**: Not exported"
   ]
  },
  {
   "cell_type": "markdown",
   "metadata": {
    "slideshow": {
     "slide_type": "fragment"
    }
   },
   "source": [
    "#### That is a fragment! "
   ]
  },
  {
   "cell_type": "markdown",
   "metadata": {
    "slideshow": {
     "slide_type": "subslide"
    }
   },
   "source": [
    "### Converting the notebook to a slideshow\n",
    "- First save and exit the notebook. Stop the Jupyter server.\n",
    "- Convert the notebook using the following command: `jupyter nbconvert notebook_name.ipynb --to slides --post serve`\n",
    "- All configuration options are provided [here](https://nbconvert.readthedocs.io/en/latest/config_options.html). \n",
    "- A template command is given below:\n",
    "```\n",
    "jupyter nbconvert index.ipynb --to slides --post serve --SlidesExporter.reveal_theme='blood league' --SlidesExporter.reveal_scroll=True --SlidesExporter.reveal_transition='none' --SlidesExporter.reveal_url_prefix='reveal.js'\n",
    "```\n",
    "\n"
   ]
  },
  {
   "cell_type": "markdown",
   "metadata": {
    "slideshow": {
     "slide_type": "subslide"
    }
   },
   "source": [
    "\n",
    "#### Slideshow conversion configuration options \n",
    "- `SlidesExporter.font_awesome_url`: URL to load font awesome from. \n",
    "- `SlidesExporter.jquery_url`: Url to load jQuery from.\n",
    "- `SlidesExporter.require_js_url`: Url to load require.js from.\n",
    "- `SlidesExporter.reveal_scroll`: Set to `True` to enable scrolling within each slide.\n",
    "- `SlidesExporter.reveal_theme`: The name of the reveal.js theme to use. Use the following path to add/customize themes: `reveal_url_prefix/css/theme/reveal_theme.css` \n",
    "- `SlidesExporter.reveal_transition`: The name of the reveal.js transition to use.\n",
    "- `SlidesExporter.reveal_url_prefix`: The URL prefix for reveal.js. Defaults to the reveal CDN, but doesn't have to. Should be a relative path to a local copy of reveal.js."
   ]
  },
  {
   "cell_type": "markdown",
   "metadata": {
    "slideshow": {
     "slide_type": "subslide"
    }
   },
   "source": [
    "#### Reveal.js Themes\n",
    "One of the following:\n",
    "  - `beige`\n",
    "  - `black` \n",
    "  - `blood league`\n",
    "  - `moon`\n",
    "  - `night`\n",
    "  - `serif`\n",
    "  - `sky`\n",
    "  - `solarized`\n",
    "  - `white`"
   ]
  },
  {
   "cell_type": "markdown",
   "metadata": {
    "slideshow": {
     "slide_type": "skip"
    }
   },
   "source": [
    " #### Reveal.js Transitions\n",
    "\n",
    " One of \n",
    "- `none` \n",
    "- `fade` \n",
    "- `slide`\n",
    "- `convex`\n",
    "- `concave`\n",
    "- `zoom`"
   ]
  },
  {
   "cell_type": "markdown",
   "metadata": {
    "slideshow": {
     "slide_type": "subslide"
    }
   },
   "source": [
    "### Using the Presentation\n",
    "- Slides are traversed using left and right arrow.\n",
    "- Subslides are traversed using up and down arrow.\n",
    "- The escape key will zoom out to a view of all slides."
   ]
  },
  {
   "cell_type": "markdown",
   "metadata": {
    "slideshow": {
     "slide_type": "slide"
    }
   },
   "source": [
    "## Using RISE (Reveal.js Ipython Slideshow Extension)"
   ]
  },
  {
   "cell_type": "markdown",
   "metadata": {
    "slideshow": {
     "slide_type": "subslide"
    }
   },
   "source": [
    "The RISE (Reveal.js Ipython Slideshow Extension) addon allows to make the slideshow live. It also works with Ipython Widgets.\n",
    "\n",
    "#### Installing `RISE`\n",
    "- Use the `pip install RISE` command to install the Python module.\n",
    "- Use the `jupyter-nbextension install rise --py --sys-prefix` to install the jupyter notebook extension.\n",
    "- Use the `jupyter-nbextension enable rise --py --sys-prefix` to initialize RISE every time the notebook loads.\n",
    "- The **Enter/Exit RISE Slideshow** button should appear in the notebook menu.\n"
   ]
  },
  {
   "cell_type": "markdown",
   "metadata": {
    "slideshow": {
     "slide_type": "subslide"
    }
   },
   "source": [
    "#### Using `RISE`\n",
    "`RISE` should have added a button to the Notebook. Click it to toggle the slideshow mode.\n",
    "\n",
    "#### Customizing `RISE`\n",
    "- Use this link to customize `RISE`: https://rise.readthedocs.io/en/docs_hot_fixes/customize.html"
   ]
  },
  {
   "cell_type": "markdown",
   "metadata": {
    "slideshow": {
     "slide_type": "slide"
    }
   },
   "source": [
    "## Hosting Reveal.js Jupyter Notebook Presentations on GitHub Pages"
   ]
  },
  {
   "cell_type": "markdown",
   "metadata": {
    "slideshow": {
     "slide_type": "subslide"
    }
   },
   "source": [
    "#### Steps to render a presentation on GitHub Pages\n",
    "\n",
    "1. The final export page should be named `index.html`. \n",
    "2. Clone `reveal.js` into the repository where the slideshow exists.\n",
    "3. Export the notebook to html slides.\n",
    "4. Rename the exported notebook to `index.html` to allow render in GitHub Pages.\n",
    "5. Push the changes to the repository."
   ]
  },
  {
   "cell_type": "markdown",
   "metadata": {
    "slideshow": {
     "slide_type": "slide"
    }
   },
   "source": [
    "## Resources\n",
    "\n",
    "*The following resources were used to create this workbook:*\n",
    "\n",
    "- https://dzone.com/articles/creating-presentations-with-jupyter-notebook\n",
    "- http://blog.kdheepak.com/jupyter-notebook-revealjs-and-github-pages.html\n",
    "- https://www.blog.pythonlibrary.org/2018/09/25/creating-presentations-with-jupyter-notebook/"
   ]
  }
 ],
 "metadata": {
  "celltoolbar": "Slideshow",
  "kernelspec": {
   "display_name": "Python 3",
   "language": "python",
   "name": "python3"
  },
  "language_info": {
   "codemirror_mode": {
    "name": "ipython",
    "version": 3
   },
   "file_extension": ".py",
   "mimetype": "text/x-python",
   "name": "python",
   "nbconvert_exporter": "python",
   "pygments_lexer": "ipython3",
   "version": "3.7.1"
  }
 },
 "nbformat": 4,
 "nbformat_minor": 2
}
